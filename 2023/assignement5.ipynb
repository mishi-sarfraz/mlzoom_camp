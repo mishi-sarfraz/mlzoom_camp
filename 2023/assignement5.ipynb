{
 "cells": [
  {
   "cell_type": "markdown",
   "metadata": {},
   "source": [
    "Question 1<br>\n",
    "Install Pipenv<br>\n",
    "What's the version of pipenv you installed?<br>\n",
    "Use --version to find out"
   ]
  },
  {
   "cell_type": "code",
   "execution_count": 5,
   "metadata": {},
   "outputs": [
    {
     "name": "stdout",
     "output_type": "stream",
     "text": [
      "Collecting pipenv\n",
      "  Downloading pipenv-2023.10.3-py3-none-any.whl (3.2 MB)\n",
      "     ---------------------------------------- 3.2/3.2 MB 3.8 MB/s eta 0:00:00\n",
      "Collecting virtualenv>=20.24.2\n",
      "  Downloading virtualenv-20.24.5-py3-none-any.whl (3.7 MB)\n",
      "     ---------------------------------------- 3.7/3.7 MB 3.9 MB/s eta 0:00:00\n",
      "Collecting setuptools>=67\n",
      "  Downloading setuptools-68.2.2-py3-none-any.whl (807 kB)\n",
      "     -------------------------------------- 807.9/807.9 kB 3.4 MB/s eta 0:00:00\n",
      "Requirement already satisfied: certifi in c:\\users\\user\\appdata\\local\\packages\\pythonsoftwarefoundation.python.3.10_qbz5n2kfra8p0\\localcache\\local-packages\\python310\\site-packages (from pipenv) (2023.7.22)\n",
      "Collecting distlib<1,>=0.3.7\n",
      "  Downloading distlib-0.3.7-py2.py3-none-any.whl (468 kB)\n",
      "     -------------------------------------- 468.9/468.9 kB 2.0 MB/s eta 0:00:00\n",
      "Collecting filelock<4,>=3.12.2\n",
      "  Downloading filelock-3.12.4-py3-none-any.whl (11 kB)\n",
      "Collecting platformdirs<4,>=3.9.1\n",
      "  Downloading platformdirs-3.11.0-py3-none-any.whl (17 kB)\n",
      "Installing collected packages: distlib, setuptools, platformdirs, filelock, virtualenv, pipenv\n",
      "  Attempting uninstall: platformdirs\n",
      "    Found existing installation: platformdirs 3.0.0\n",
      "    Uninstalling platformdirs-3.0.0:\n",
      "      Successfully uninstalled platformdirs-3.0.0\n",
      "Successfully installed distlib-0.3.7 filelock-3.12.4 pipenv-2023.10.3 platformdirs-3.11.0 setuptools-68.2.2 virtualenv-20.24.5\n"
     ]
    },
    {
     "name": "stderr",
     "output_type": "stream",
     "text": [
      "\n",
      "[notice] A new release of pip available: 22.3.1 -> 23.2.1\n",
      "[notice] To update, run: C:\\Users\\user\\AppData\\Local\\Microsoft\\WindowsApps\\PythonSoftwareFoundation.Python.3.10_qbz5n2kfra8p0\\python.exe -m pip install --upgrade pip\n"
     ]
    }
   ],
   "source": [
    "!pip install pipenv"
   ]
  },
  {
   "cell_type": "code",
   "execution_count": 6,
   "metadata": {},
   "outputs": [
    {
     "name": "stdout",
     "output_type": "stream",
     "text": [
      "pipenv, version 2023.10.3\n"
     ]
    }
   ],
   "source": [
    "! pipenv --version"
   ]
  },
  {
   "cell_type": "markdown",
   "metadata": {},
   "source": [
    "Question 2<br>\n",
    "- Use Pipenv to install Scikit-Learn version 1.3.1<br>\n",
    "- What's the first hash for scikit-learn you get in Pipfile.lock?"
   ]
  },
  {
   "cell_type": "code",
   "execution_count": 9,
   "metadata": {},
   "outputs": [
    {
     "name": "stdout",
     "output_type": "stream",
     "text": [
      "g:\\mlzoom_camp\\2023\n"
     ]
    }
   ],
   "source": [
    "# current directory:\n",
    "import os\n",
    "print(os.getcwd())"
   ]
  },
  {
   "cell_type": "markdown",
   "metadata": {},
   "source": [
    "\"sha256:0c275a06c5190c5ce00af0acbb61c06374087949f643ef32d355ece12c4db043\"\n"
   ]
  },
  {
   "cell_type": "markdown",
   "metadata": {},
   "source": [
    "Q3:"
   ]
  },
  {
   "cell_type": "code",
   "execution_count": 20,
   "metadata": {},
   "outputs": [],
   "source": [
    "import os\n",
    "# G:\\mlzoom_camp\\2023\\home\n",
    "os.chdir(r'G:\\mlzoom_camp\\2023\\home')"
   ]
  },
  {
   "cell_type": "code",
   "execution_count": 21,
   "metadata": {},
   "outputs": [
    {
     "name": "stderr",
     "output_type": "stream",
     "text": [
      "  % Total    % Received % Xferd  Average Speed   Time    Time     Time  Current\n",
      "                                 Dload  Upload   Total   Spent    Left  Speed\n",
      "\n",
      "  0     0    0     0    0     0      0      0 --:--:-- --:--:-- --:--:--     0\n",
      "100   842  100   842    0     0   1410      0 --:--:-- --:--:-- --:--:--  1412\n",
      "  % Total    % Received % Xferd  Average Speed   Time    Time     Time  Current\n",
      "                                 Dload  Upload   Total   Spent    Left  Speed\n",
      "\n",
      "  0     0    0     0    0     0      0      0 --:--:-- --:--:-- --:--:--     0\n",
      "  0     0    0     0    0     0      0      0 --:--:-- --:--:-- --:--:--     0\n",
      "100   560  100   560    0     0    940      0 --:--:-- --:--:-- --:--:--   941\n"
     ]
    }
   ],
   "source": [
    "PREFIX=\"https://raw.githubusercontent.com/DataTalksClub/machine-learning-zoomcamp/master/cohorts/2023/05-deployment/homework\"\n",
    "!curl -o model1.bin $PREFIX/model1.bin\n",
    "!curl -o dv.bin $PREFIX/dv.bin\n",
    "\n"
   ]
  },
  {
   "cell_type": "code",
   "execution_count": 22,
   "metadata": {},
   "outputs": [
    {
     "name": "stderr",
     "output_type": "stream",
     "text": [
      "C:\\Users\\user\\AppData\\Local\\Packages\\PythonSoftwareFoundation.Python.3.10_qbz5n2kfra8p0\\LocalCache\\local-packages\\Python310\\site-packages\\sklearn\\base.py:347: InconsistentVersionWarning: Trying to unpickle estimator LogisticRegression from version 1.3.1 when using version 1.3.0. This might lead to breaking code or invalid results. Use at your own risk. For more info please refer to:\n",
      "https://scikit-learn.org/stable/model_persistence.html#security-maintainability-limitations\n",
      "  warnings.warn(\n",
      "C:\\Users\\user\\AppData\\Local\\Packages\\PythonSoftwareFoundation.Python.3.10_qbz5n2kfra8p0\\LocalCache\\local-packages\\Python310\\site-packages\\sklearn\\base.py:347: InconsistentVersionWarning: Trying to unpickle estimator DictVectorizer from version 1.3.1 when using version 1.3.0. This might lead to breaking code or invalid results. Use at your own risk. For more info please refer to:\n",
      "https://scikit-learn.org/stable/model_persistence.html#security-maintainability-limitations\n",
      "  warnings.warn(\n"
     ]
    }
   ],
   "source": [
    "# output_file='model1.bin'\n",
    "#  load model with pickle\n",
    "import pickle\n",
    "# out_file = 'model1.bin'\n",
    "model=pickle.load(open('model1.bin','rb'))\n",
    "dv=pickle.load(open('dv.bin','rb'))\n",
    "output_file='model_1.bin'\n",
    "# # load model and dv from files:\n",
    "# with open(model_file, 'rb') as f_in:\n",
    "#     model = pickle.load(f_in)\n",
    "with open(output_file, 'wb') as f_out:\n",
    "    pickle.dump((dv, model), f_out)\n"
   ]
  },
  {
   "cell_type": "code",
   "execution_count": 23,
   "metadata": {},
   "outputs": [],
   "source": [
    "# load model:\n",
    "import pickle\n",
    "import pandas as pd\n",
    "with open('model_1.bin', 'rb') as f_in:\n",
    "    dv, model = pickle.load(f_in)"
   ]
  },
  {
   "cell_type": "code",
   "execution_count": null,
   "metadata": {},
   "outputs": [],
   "source": [
    "# score client {\"job\": \"retired\", \"duration\": 445, \"poutcome\": \"success\"}\n",
    "# dv = pickle.load(open(dv_file, 'rb'))\n",
    "# dv.transform({\"job\": \"retired\", \"duration\": 445, \"poutcome\": \"success\"})\n",
    "# dv.transform({\"job\": \"retired\", \"duration\": 445, \"poutcome\": \"success\"}).toarray()\n",
    "# dv.transform({\"job\": \"retired\", \"duration\": 445, \"poutcome\": \"success\"}).toarray().shape\n",
    "# dv.transform({\"job\": \"retired\", \"duration\": 445, \"poutcome\": \"success\"}).toarray().reshape(1, -1)\n"
   ]
  },
  {
   "cell_type": "code",
   "execution_count": 24,
   "metadata": {},
   "outputs": [
    {
     "data": {
      "text/plain": [
       "(DictVectorizer(sparse=False), LogisticRegression())"
      ]
     },
     "execution_count": 24,
     "metadata": {},
     "output_type": "execute_result"
    }
   ],
   "source": [
    "dv, model"
   ]
  },
  {
   "cell_type": "code",
   "execution_count": 25,
   "metadata": {},
   "outputs": [],
   "source": [
    "client={\"job\": \"retired\", \"duration\": 445, \"poutcome\": \"success\"}"
   ]
  },
  {
   "cell_type": "code",
   "execution_count": 26,
   "metadata": {},
   "outputs": [],
   "source": [
    "X = dv.transform(client)"
   ]
  },
  {
   "cell_type": "code",
   "execution_count": 27,
   "metadata": {},
   "outputs": [
    {
     "data": {
      "text/plain": [
       "array([[445.,   0.,   0.,   0.,   0.,   0.,   1.,   0.,   0.,   0.,   0.,\n",
       "          0.,   0.,   0.,   0.,   1.,   0.]])"
      ]
     },
     "execution_count": 27,
     "metadata": {},
     "output_type": "execute_result"
    }
   ],
   "source": [
    "X"
   ]
  },
  {
   "cell_type": "code",
   "execution_count": 30,
   "metadata": {},
   "outputs": [
    {
     "data": {
      "text/plain": [
       "0.9019309332297606"
      ]
     },
     "execution_count": 30,
     "metadata": {},
     "output_type": "execute_result"
    }
   ],
   "source": [
    "model.predict_proba(X)[0,1]"
   ]
  },
  {
   "cell_type": "markdown",
   "metadata": {},
   "source": [
    "Question 4<br>"
   ]
  },
  {
   "cell_type": "markdown",
   "metadata": {},
   "source": [
    "Now let's serve this model as a web service\n",
    "\n",
    "Install Flask and gunicorn (or waitress, if you're on Windows)\n",
    "Write Flask code for serving the model\n",
    "Now score this client using requests:"
   ]
  },
  {
   "cell_type": "code",
   "execution_count": null,
   "metadata": {},
   "outputs": [],
   "source": []
  }
 ],
 "metadata": {
  "kernelspec": {
   "display_name": "Python 3",
   "language": "python",
   "name": "python3"
  },
  "language_info": {
   "codemirror_mode": {
    "name": "ipython",
    "version": 3
   },
   "file_extension": ".py",
   "mimetype": "text/x-python",
   "name": "python",
   "nbconvert_exporter": "python",
   "pygments_lexer": "ipython3",
   "version": "3.10.10"
  },
  "orig_nbformat": 4
 },
 "nbformat": 4,
 "nbformat_minor": 2
}
