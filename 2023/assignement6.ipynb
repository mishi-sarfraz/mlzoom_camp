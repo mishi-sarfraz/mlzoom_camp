{
 "cells": [
  {
   "cell_type": "markdown",
   "metadata": {},
   "source": [
    "#  Assignement 6"
   ]
  },
  {
   "cell_type": "code",
   "execution_count": 1,
   "metadata": {},
   "outputs": [
    {
     "name": "stdout",
     "output_type": "stream",
     "text": [
      "\n",
      "Saved under housing.csv\n"
     ]
    }
   ],
   "source": [
    "\n",
    "#  read California housing data\n",
    "# ! wget https://raw.githubusercontent.com/ageron/handson-ml2/master/datasets/housing/housing.csv\n",
    "! python -m wget https://raw.githubusercontent.com/alexeygrigorev/datasets/master/housing.csv\n"
   ]
  },
  {
   "cell_type": "code",
   "execution_count": 2,
   "metadata": {},
   "outputs": [
    {
     "data": {
      "text/html": [
       "<div>\n",
       "<style scoped>\n",
       "    .dataframe tbody tr th:only-of-type {\n",
       "        vertical-align: middle;\n",
       "    }\n",
       "\n",
       "    .dataframe tbody tr th {\n",
       "        vertical-align: top;\n",
       "    }\n",
       "\n",
       "    .dataframe thead th {\n",
       "        text-align: right;\n",
       "    }\n",
       "</style>\n",
       "<table border=\"1\" class=\"dataframe\">\n",
       "  <thead>\n",
       "    <tr style=\"text-align: right;\">\n",
       "      <th></th>\n",
       "      <th>longitude</th>\n",
       "      <th>latitude</th>\n",
       "      <th>housing_median_age</th>\n",
       "      <th>total_rooms</th>\n",
       "      <th>total_bedrooms</th>\n",
       "      <th>population</th>\n",
       "      <th>households</th>\n",
       "      <th>median_income</th>\n",
       "      <th>median_house_value</th>\n",
       "      <th>ocean_proximity</th>\n",
       "    </tr>\n",
       "  </thead>\n",
       "  <tbody>\n",
       "    <tr>\n",
       "      <th>0</th>\n",
       "      <td>-122.23</td>\n",
       "      <td>37.88</td>\n",
       "      <td>41.0</td>\n",
       "      <td>880.0</td>\n",
       "      <td>129.0</td>\n",
       "      <td>322.0</td>\n",
       "      <td>126.0</td>\n",
       "      <td>8.3252</td>\n",
       "      <td>452600.0</td>\n",
       "      <td>NEAR BAY</td>\n",
       "    </tr>\n",
       "    <tr>\n",
       "      <th>1</th>\n",
       "      <td>-122.22</td>\n",
       "      <td>37.86</td>\n",
       "      <td>21.0</td>\n",
       "      <td>7099.0</td>\n",
       "      <td>1106.0</td>\n",
       "      <td>2401.0</td>\n",
       "      <td>1138.0</td>\n",
       "      <td>8.3014</td>\n",
       "      <td>358500.0</td>\n",
       "      <td>NEAR BAY</td>\n",
       "    </tr>\n",
       "    <tr>\n",
       "      <th>2</th>\n",
       "      <td>-122.24</td>\n",
       "      <td>37.85</td>\n",
       "      <td>52.0</td>\n",
       "      <td>1467.0</td>\n",
       "      <td>190.0</td>\n",
       "      <td>496.0</td>\n",
       "      <td>177.0</td>\n",
       "      <td>7.2574</td>\n",
       "      <td>352100.0</td>\n",
       "      <td>NEAR BAY</td>\n",
       "    </tr>\n",
       "    <tr>\n",
       "      <th>3</th>\n",
       "      <td>-122.25</td>\n",
       "      <td>37.85</td>\n",
       "      <td>52.0</td>\n",
       "      <td>1274.0</td>\n",
       "      <td>235.0</td>\n",
       "      <td>558.0</td>\n",
       "      <td>219.0</td>\n",
       "      <td>5.6431</td>\n",
       "      <td>341300.0</td>\n",
       "      <td>NEAR BAY</td>\n",
       "    </tr>\n",
       "    <tr>\n",
       "      <th>4</th>\n",
       "      <td>-122.25</td>\n",
       "      <td>37.85</td>\n",
       "      <td>52.0</td>\n",
       "      <td>1627.0</td>\n",
       "      <td>280.0</td>\n",
       "      <td>565.0</td>\n",
       "      <td>259.0</td>\n",
       "      <td>3.8462</td>\n",
       "      <td>342200.0</td>\n",
       "      <td>NEAR BAY</td>\n",
       "    </tr>\n",
       "  </tbody>\n",
       "</table>\n",
       "</div>"
      ],
      "text/plain": [
       "   longitude  latitude  housing_median_age  total_rooms  total_bedrooms  \\\n",
       "0    -122.23     37.88                41.0        880.0           129.0   \n",
       "1    -122.22     37.86                21.0       7099.0          1106.0   \n",
       "2    -122.24     37.85                52.0       1467.0           190.0   \n",
       "3    -122.25     37.85                52.0       1274.0           235.0   \n",
       "4    -122.25     37.85                52.0       1627.0           280.0   \n",
       "\n",
       "   population  households  median_income  median_house_value ocean_proximity  \n",
       "0       322.0       126.0         8.3252            452600.0        NEAR BAY  \n",
       "1      2401.0      1138.0         8.3014            358500.0        NEAR BAY  \n",
       "2       496.0       177.0         7.2574            352100.0        NEAR BAY  \n",
       "3       558.0       219.0         5.6431            341300.0        NEAR BAY  \n",
       "4       565.0       259.0         3.8462            342200.0        NEAR BAY  "
      ]
     },
     "execution_count": 2,
     "metadata": {},
     "output_type": "execute_result"
    }
   ],
   "source": [
    "import pandas as pd\n",
    "import numpy as np\n",
    "import matplotlib.pyplot as plt\n",
    "df_House=pd.read_csv('housing.csv')\n",
    "df_House.head()"
   ]
  },
  {
   "cell_type": "markdown",
   "metadata": {},
   "source": [
    "# Data Prepration\n",
    "keep only the records where ocean_proximity is either '<1H OCEAN' or 'INLAND'"
   ]
  },
  {
   "cell_type": "code",
   "execution_count": 3,
   "metadata": {},
   "outputs": [],
   "source": [
    "df_House=df_House[df_House['ocean_proximity'].isin(['INLAND','<1H OCEAN'])]"
   ]
  },
  {
   "cell_type": "code",
   "execution_count": 4,
   "metadata": {},
   "outputs": [
    {
     "data": {
      "text/html": [
       "<div>\n",
       "<style scoped>\n",
       "    .dataframe tbody tr th:only-of-type {\n",
       "        vertical-align: middle;\n",
       "    }\n",
       "\n",
       "    .dataframe tbody tr th {\n",
       "        vertical-align: top;\n",
       "    }\n",
       "\n",
       "    .dataframe thead th {\n",
       "        text-align: right;\n",
       "    }\n",
       "</style>\n",
       "<table border=\"1\" class=\"dataframe\">\n",
       "  <thead>\n",
       "    <tr style=\"text-align: right;\">\n",
       "      <th></th>\n",
       "      <th>longitude</th>\n",
       "      <th>latitude</th>\n",
       "      <th>housing_median_age</th>\n",
       "      <th>total_rooms</th>\n",
       "      <th>total_bedrooms</th>\n",
       "      <th>population</th>\n",
       "      <th>households</th>\n",
       "      <th>median_income</th>\n",
       "      <th>median_house_value</th>\n",
       "      <th>ocean_proximity</th>\n",
       "    </tr>\n",
       "  </thead>\n",
       "  <tbody>\n",
       "    <tr>\n",
       "      <th>701</th>\n",
       "      <td>-121.97</td>\n",
       "      <td>37.64</td>\n",
       "      <td>32.0</td>\n",
       "      <td>1283.0</td>\n",
       "      <td>194.0</td>\n",
       "      <td>485.0</td>\n",
       "      <td>171.0</td>\n",
       "      <td>6.0574</td>\n",
       "      <td>431000.0</td>\n",
       "      <td>&lt;1H OCEAN</td>\n",
       "    </tr>\n",
       "    <tr>\n",
       "      <th>830</th>\n",
       "      <td>-121.99</td>\n",
       "      <td>37.61</td>\n",
       "      <td>9.0</td>\n",
       "      <td>3666.0</td>\n",
       "      <td>711.0</td>\n",
       "      <td>2341.0</td>\n",
       "      <td>703.0</td>\n",
       "      <td>4.6458</td>\n",
       "      <td>217000.0</td>\n",
       "      <td>&lt;1H OCEAN</td>\n",
       "    </tr>\n",
       "    <tr>\n",
       "      <th>859</th>\n",
       "      <td>-121.97</td>\n",
       "      <td>37.57</td>\n",
       "      <td>21.0</td>\n",
       "      <td>4342.0</td>\n",
       "      <td>783.0</td>\n",
       "      <td>2172.0</td>\n",
       "      <td>789.0</td>\n",
       "      <td>4.6146</td>\n",
       "      <td>247600.0</td>\n",
       "      <td>&lt;1H OCEAN</td>\n",
       "    </tr>\n",
       "    <tr>\n",
       "      <th>860</th>\n",
       "      <td>-121.96</td>\n",
       "      <td>37.58</td>\n",
       "      <td>15.0</td>\n",
       "      <td>3575.0</td>\n",
       "      <td>597.0</td>\n",
       "      <td>1777.0</td>\n",
       "      <td>559.0</td>\n",
       "      <td>5.7192</td>\n",
       "      <td>283500.0</td>\n",
       "      <td>&lt;1H OCEAN</td>\n",
       "    </tr>\n",
       "    <tr>\n",
       "      <th>861</th>\n",
       "      <td>-121.98</td>\n",
       "      <td>37.58</td>\n",
       "      <td>20.0</td>\n",
       "      <td>4126.0</td>\n",
       "      <td>1031.0</td>\n",
       "      <td>2079.0</td>\n",
       "      <td>975.0</td>\n",
       "      <td>3.6832</td>\n",
       "      <td>216900.0</td>\n",
       "      <td>&lt;1H OCEAN</td>\n",
       "    </tr>\n",
       "    <tr>\n",
       "      <th>...</th>\n",
       "      <td>...</td>\n",
       "      <td>...</td>\n",
       "      <td>...</td>\n",
       "      <td>...</td>\n",
       "      <td>...</td>\n",
       "      <td>...</td>\n",
       "      <td>...</td>\n",
       "      <td>...</td>\n",
       "      <td>...</td>\n",
       "      <td>...</td>\n",
       "    </tr>\n",
       "    <tr>\n",
       "      <th>20635</th>\n",
       "      <td>-121.09</td>\n",
       "      <td>39.48</td>\n",
       "      <td>25.0</td>\n",
       "      <td>1665.0</td>\n",
       "      <td>374.0</td>\n",
       "      <td>845.0</td>\n",
       "      <td>330.0</td>\n",
       "      <td>1.5603</td>\n",
       "      <td>78100.0</td>\n",
       "      <td>INLAND</td>\n",
       "    </tr>\n",
       "    <tr>\n",
       "      <th>20636</th>\n",
       "      <td>-121.21</td>\n",
       "      <td>39.49</td>\n",
       "      <td>18.0</td>\n",
       "      <td>697.0</td>\n",
       "      <td>150.0</td>\n",
       "      <td>356.0</td>\n",
       "      <td>114.0</td>\n",
       "      <td>2.5568</td>\n",
       "      <td>77100.0</td>\n",
       "      <td>INLAND</td>\n",
       "    </tr>\n",
       "    <tr>\n",
       "      <th>20637</th>\n",
       "      <td>-121.22</td>\n",
       "      <td>39.43</td>\n",
       "      <td>17.0</td>\n",
       "      <td>2254.0</td>\n",
       "      <td>485.0</td>\n",
       "      <td>1007.0</td>\n",
       "      <td>433.0</td>\n",
       "      <td>1.7000</td>\n",
       "      <td>92300.0</td>\n",
       "      <td>INLAND</td>\n",
       "    </tr>\n",
       "    <tr>\n",
       "      <th>20638</th>\n",
       "      <td>-121.32</td>\n",
       "      <td>39.43</td>\n",
       "      <td>18.0</td>\n",
       "      <td>1860.0</td>\n",
       "      <td>409.0</td>\n",
       "      <td>741.0</td>\n",
       "      <td>349.0</td>\n",
       "      <td>1.8672</td>\n",
       "      <td>84700.0</td>\n",
       "      <td>INLAND</td>\n",
       "    </tr>\n",
       "    <tr>\n",
       "      <th>20639</th>\n",
       "      <td>-121.24</td>\n",
       "      <td>39.37</td>\n",
       "      <td>16.0</td>\n",
       "      <td>2785.0</td>\n",
       "      <td>616.0</td>\n",
       "      <td>1387.0</td>\n",
       "      <td>530.0</td>\n",
       "      <td>2.3886</td>\n",
       "      <td>89400.0</td>\n",
       "      <td>INLAND</td>\n",
       "    </tr>\n",
       "  </tbody>\n",
       "</table>\n",
       "<p>15687 rows × 10 columns</p>\n",
       "</div>"
      ],
      "text/plain": [
       "       longitude  latitude  housing_median_age  total_rooms  total_bedrooms  \\\n",
       "701      -121.97     37.64                32.0       1283.0           194.0   \n",
       "830      -121.99     37.61                 9.0       3666.0           711.0   \n",
       "859      -121.97     37.57                21.0       4342.0           783.0   \n",
       "860      -121.96     37.58                15.0       3575.0           597.0   \n",
       "861      -121.98     37.58                20.0       4126.0          1031.0   \n",
       "...          ...       ...                 ...          ...             ...   \n",
       "20635    -121.09     39.48                25.0       1665.0           374.0   \n",
       "20636    -121.21     39.49                18.0        697.0           150.0   \n",
       "20637    -121.22     39.43                17.0       2254.0           485.0   \n",
       "20638    -121.32     39.43                18.0       1860.0           409.0   \n",
       "20639    -121.24     39.37                16.0       2785.0           616.0   \n",
       "\n",
       "       population  households  median_income  median_house_value  \\\n",
       "701         485.0       171.0         6.0574            431000.0   \n",
       "830        2341.0       703.0         4.6458            217000.0   \n",
       "859        2172.0       789.0         4.6146            247600.0   \n",
       "860        1777.0       559.0         5.7192            283500.0   \n",
       "861        2079.0       975.0         3.6832            216900.0   \n",
       "...           ...         ...            ...                 ...   \n",
       "20635       845.0       330.0         1.5603             78100.0   \n",
       "20636       356.0       114.0         2.5568             77100.0   \n",
       "20637      1007.0       433.0         1.7000             92300.0   \n",
       "20638       741.0       349.0         1.8672             84700.0   \n",
       "20639      1387.0       530.0         2.3886             89400.0   \n",
       "\n",
       "      ocean_proximity  \n",
       "701         <1H OCEAN  \n",
       "830         <1H OCEAN  \n",
       "859         <1H OCEAN  \n",
       "860         <1H OCEAN  \n",
       "861         <1H OCEAN  \n",
       "...               ...  \n",
       "20635          INLAND  \n",
       "20636          INLAND  \n",
       "20637          INLAND  \n",
       "20638          INLAND  \n",
       "20639          INLAND  \n",
       "\n",
       "[15687 rows x 10 columns]"
      ]
     },
     "execution_count": 4,
     "metadata": {},
     "output_type": "execute_result"
    }
   ],
   "source": [
    "# keep only the records where ocean_proximity is either '<1H OCEAN' or 'INLAND'\":\n",
    "df_House[df_House['ocean_proximity'].isin(['<1H OCEAN','INLAND'])]\n"
   ]
  },
  {
   "cell_type": "code",
   "execution_count": 5,
   "metadata": {},
   "outputs": [
    {
     "name": "stdout",
     "output_type": "stream",
     "text": [
      "(9411, 9) (3138, 9) (3138, 9)\n"
     ]
    }
   ],
   "source": [
    "df_House.head()\n",
    "# Fill missing values with zeros.\n",
    "df_House=df_House.fillna(0)\n",
    "# Apply the log transform to median_house_value.\n",
    "df_House['median_house_value']=np.log1p(df_House['median_house_value'])\n",
    "\n",
    "\n",
    "# Do train/validation/test split with 60%/20%/20% distribution.\n",
    "# @ SPLITTING THE DATASET:\n",
    "from sklearn.model_selection import train_test_split\n",
    "df_full_train, df_test = train_test_split(df_House, test_size=0.2, random_state=1)\n",
    "df_train, df_val = train_test_split(df_full_train, test_size=0.25, random_state=1)\n",
    "df_train=df_train.reset_index(drop=True)\n",
    "df_val=df_val.reset_index(drop=True)\n",
    "df_test=df_test.reset_index(drop=True)\n",
    "y_train=df_train['median_house_value'].values\n",
    "y_val=df_val['median_house_value'].values\n",
    "y_test=df_test['median_house_value'].values\n",
    "del df_train['median_house_value']\n",
    "del df_val['median_house_value']\n",
    "del df_test['median_house_value']\n",
    "# Use the train_test_split function and set the random_state parameter to 1.\n",
    "# Use DictVectorizer(sparse=True) to turn the dataframes into matrices.\n",
    "print(df_train.shape, df_val.shape, df_test.shape)\n",
    "\n"
   ]
  },
  {
   "cell_type": "code",
   "execution_count": 6,
   "metadata": {},
   "outputs": [
    {
     "name": "stdout",
     "output_type": "stream",
     "text": [
      "(9411,) (3138,) (3138,)\n"
     ]
    }
   ],
   "source": [
    "print(y_train.shape, y_val.shape, y_test.shape)"
   ]
  },
  {
   "cell_type": "code",
   "execution_count": 7,
   "metadata": {},
   "outputs": [
    {
     "name": "stdout",
     "output_type": "stream",
     "text": [
      "['households', 'housing_median_age', 'latitude', 'longitude', 'median_income', 'ocean_proximity=<1H OCEAN', 'ocean_proximity=INLAND', 'population', 'total_bedrooms', 'total_rooms']\n"
     ]
    }
   ],
   "source": [
    "from sklearn.feature_extraction import DictVectorizer\n",
    "train_dicts = df_train.to_dict(orient='records')\n",
    "dv = DictVectorizer(sparse=True)\n",
    "X_train = dv.fit_transform(train_dicts)\n",
    "# print(list(dv.vocabulary_.keys()))\n",
    "print(dv.feature_names_)\n",
    "# val_dicts = df_val.to_dict(orient='records')\n",
    "X_val = dv.transform(val_dicts)\n",
    "test_dicts = df_test.to_dict(orient='records')\n",
    "# X_test = dv.transform(test_dicts)\n",
    "# print(X_train.shape, X_val.shape, X_test.shape)\n"
   ]
  },
  {
   "cell_type": "code",
   "execution_count": 12,
   "metadata": {},
   "outputs": [],
   "source": [
    "val_dicts = df_val.to_dict(orient='records')\n",
    "X_val = dv.transform(val_dicts)\n",
    "test_dicts = df_test.to_dict(orient='records')"
   ]
  },
  {
   "cell_type": "markdown",
   "metadata": {},
   "source": [
    "Question 1<br>\n",
    "Let's train a decision tree regressor to predict the median_house_value variable.<br>\n",
    "<br>\n",
    "Train a model with max_depth=1.<br>\n",
    "Which feature is used for splitting the data?<br>\n",
    "<br>\n",
    "ocean_proximity<br>\n",
    "total_rooms<br>\n",
    "latitude<br>\n",
    "population<br>"
   ]
  },
  {
   "cell_type": "code",
   "execution_count": 8,
   "metadata": {},
   "outputs": [
    {
     "data": {
      "text/html": [
       "<style>#sk-container-id-1 {color: black;}#sk-container-id-1 pre{padding: 0;}#sk-container-id-1 div.sk-toggleable {background-color: white;}#sk-container-id-1 label.sk-toggleable__label {cursor: pointer;display: block;width: 100%;margin-bottom: 0;padding: 0.3em;box-sizing: border-box;text-align: center;}#sk-container-id-1 label.sk-toggleable__label-arrow:before {content: \"▸\";float: left;margin-right: 0.25em;color: #696969;}#sk-container-id-1 label.sk-toggleable__label-arrow:hover:before {color: black;}#sk-container-id-1 div.sk-estimator:hover label.sk-toggleable__label-arrow:before {color: black;}#sk-container-id-1 div.sk-toggleable__content {max-height: 0;max-width: 0;overflow: hidden;text-align: left;background-color: #f0f8ff;}#sk-container-id-1 div.sk-toggleable__content pre {margin: 0.2em;color: black;border-radius: 0.25em;background-color: #f0f8ff;}#sk-container-id-1 input.sk-toggleable__control:checked~div.sk-toggleable__content {max-height: 200px;max-width: 100%;overflow: auto;}#sk-container-id-1 input.sk-toggleable__control:checked~label.sk-toggleable__label-arrow:before {content: \"▾\";}#sk-container-id-1 div.sk-estimator input.sk-toggleable__control:checked~label.sk-toggleable__label {background-color: #d4ebff;}#sk-container-id-1 div.sk-label input.sk-toggleable__control:checked~label.sk-toggleable__label {background-color: #d4ebff;}#sk-container-id-1 input.sk-hidden--visually {border: 0;clip: rect(1px 1px 1px 1px);clip: rect(1px, 1px, 1px, 1px);height: 1px;margin: -1px;overflow: hidden;padding: 0;position: absolute;width: 1px;}#sk-container-id-1 div.sk-estimator {font-family: monospace;background-color: #f0f8ff;border: 1px dotted black;border-radius: 0.25em;box-sizing: border-box;margin-bottom: 0.5em;}#sk-container-id-1 div.sk-estimator:hover {background-color: #d4ebff;}#sk-container-id-1 div.sk-parallel-item::after {content: \"\";width: 100%;border-bottom: 1px solid gray;flex-grow: 1;}#sk-container-id-1 div.sk-label:hover label.sk-toggleable__label {background-color: #d4ebff;}#sk-container-id-1 div.sk-serial::before {content: \"\";position: absolute;border-left: 1px solid gray;box-sizing: border-box;top: 0;bottom: 0;left: 50%;z-index: 0;}#sk-container-id-1 div.sk-serial {display: flex;flex-direction: column;align-items: center;background-color: white;padding-right: 0.2em;padding-left: 0.2em;position: relative;}#sk-container-id-1 div.sk-item {position: relative;z-index: 1;}#sk-container-id-1 div.sk-parallel {display: flex;align-items: stretch;justify-content: center;background-color: white;position: relative;}#sk-container-id-1 div.sk-item::before, #sk-container-id-1 div.sk-parallel-item::before {content: \"\";position: absolute;border-left: 1px solid gray;box-sizing: border-box;top: 0;bottom: 0;left: 50%;z-index: -1;}#sk-container-id-1 div.sk-parallel-item {display: flex;flex-direction: column;z-index: 1;position: relative;background-color: white;}#sk-container-id-1 div.sk-parallel-item:first-child::after {align-self: flex-end;width: 50%;}#sk-container-id-1 div.sk-parallel-item:last-child::after {align-self: flex-start;width: 50%;}#sk-container-id-1 div.sk-parallel-item:only-child::after {width: 0;}#sk-container-id-1 div.sk-dashed-wrapped {border: 1px dashed gray;margin: 0 0.4em 0.5em 0.4em;box-sizing: border-box;padding-bottom: 0.4em;background-color: white;}#sk-container-id-1 div.sk-label label {font-family: monospace;font-weight: bold;display: inline-block;line-height: 1.2em;}#sk-container-id-1 div.sk-label-container {text-align: center;}#sk-container-id-1 div.sk-container {/* jupyter's `normalize.less` sets `[hidden] { display: none; }` but bootstrap.min.css set `[hidden] { display: none !important; }` so we also need the `!important` here to be able to override the default hidden behavior on the sphinx rendered scikit-learn.org. See: https://github.com/scikit-learn/scikit-learn/issues/21755 */display: inline-block !important;position: relative;}#sk-container-id-1 div.sk-text-repr-fallback {display: none;}</style><div id=\"sk-container-id-1\" class=\"sk-top-container\"><div class=\"sk-text-repr-fallback\"><pre>DecisionTreeRegressor(max_depth=1)</pre><b>In a Jupyter environment, please rerun this cell to show the HTML representation or trust the notebook. <br />On GitHub, the HTML representation is unable to render, please try loading this page with nbviewer.org.</b></div><div class=\"sk-container\" hidden><div class=\"sk-item\"><div class=\"sk-estimator sk-toggleable\"><input class=\"sk-toggleable__control sk-hidden--visually\" id=\"sk-estimator-id-1\" type=\"checkbox\" checked><label for=\"sk-estimator-id-1\" class=\"sk-toggleable__label sk-toggleable__label-arrow\">DecisionTreeRegressor</label><div class=\"sk-toggleable__content\"><pre>DecisionTreeRegressor(max_depth=1)</pre></div></div></div></div></div>"
      ],
      "text/plain": [
       "DecisionTreeRegressor(max_depth=1)"
      ]
     },
     "execution_count": 8,
     "metadata": {},
     "output_type": "execute_result"
    }
   ],
   "source": [
    "from sklearn.tree import DecisionTreeRegressor\n",
    "from sklearn.metrics import roc_auc_score\n",
    "from sklearn.metrics import mean_squared_error\n",
    "from sklearn.tree import export_text\n",
    "dt=DecisionTreeRegressor(max_depth=1)\n",
    "dt.fit(X_train,y_train)"
   ]
  },
  {
   "cell_type": "code",
   "execution_count": 9,
   "metadata": {},
   "outputs": [
    {
     "name": "stdout",
     "output_type": "stream",
     "text": [
      "|--- ocean_proximity=<1H OCEAN <= 0.50\n",
      "|   |--- value: [11.61]\n",
      "|--- ocean_proximity=<1H OCEAN >  0.50\n",
      "|   |--- value: [12.30]\n",
      "\n"
     ]
    }
   ],
   "source": [
    "# Get the feature used for splitting the data\n",
    "from sklearn.tree import export_text\n",
    "print(export_text(dt, feature_names=dv.feature_names_))"
   ]
  },
  {
   "cell_type": "markdown",
   "metadata": {},
   "source": [
    "so the answer is **ocean_proximity**"
   ]
  },
  {
   "cell_type": "markdown",
   "metadata": {},
   "source": [
    "Question 2<br>\n",
    "Train a random forest model with these parameters:<br>\n",
    "<br>\n",
    "\n",
    "n_estimators=10<br>\n",
    "random_state=1<br>\n",
    "n_jobs=-1 (optional - to make training faster)<br>\n",
    "What's the RMSE of this model on validation?<br>\n",
    "<br>\n",
    "- 0.045\n",
    "- 0.245\n",
    "- 0.545\n",
    "- 0.845"
   ]
  },
  {
   "cell_type": "code",
   "execution_count": 10,
   "metadata": {},
   "outputs": [
    {
     "data": {
      "text/html": [
       "<style>#sk-container-id-2 {color: black;}#sk-container-id-2 pre{padding: 0;}#sk-container-id-2 div.sk-toggleable {background-color: white;}#sk-container-id-2 label.sk-toggleable__label {cursor: pointer;display: block;width: 100%;margin-bottom: 0;padding: 0.3em;box-sizing: border-box;text-align: center;}#sk-container-id-2 label.sk-toggleable__label-arrow:before {content: \"▸\";float: left;margin-right: 0.25em;color: #696969;}#sk-container-id-2 label.sk-toggleable__label-arrow:hover:before {color: black;}#sk-container-id-2 div.sk-estimator:hover label.sk-toggleable__label-arrow:before {color: black;}#sk-container-id-2 div.sk-toggleable__content {max-height: 0;max-width: 0;overflow: hidden;text-align: left;background-color: #f0f8ff;}#sk-container-id-2 div.sk-toggleable__content pre {margin: 0.2em;color: black;border-radius: 0.25em;background-color: #f0f8ff;}#sk-container-id-2 input.sk-toggleable__control:checked~div.sk-toggleable__content {max-height: 200px;max-width: 100%;overflow: auto;}#sk-container-id-2 input.sk-toggleable__control:checked~label.sk-toggleable__label-arrow:before {content: \"▾\";}#sk-container-id-2 div.sk-estimator input.sk-toggleable__control:checked~label.sk-toggleable__label {background-color: #d4ebff;}#sk-container-id-2 div.sk-label input.sk-toggleable__control:checked~label.sk-toggleable__label {background-color: #d4ebff;}#sk-container-id-2 input.sk-hidden--visually {border: 0;clip: rect(1px 1px 1px 1px);clip: rect(1px, 1px, 1px, 1px);height: 1px;margin: -1px;overflow: hidden;padding: 0;position: absolute;width: 1px;}#sk-container-id-2 div.sk-estimator {font-family: monospace;background-color: #f0f8ff;border: 1px dotted black;border-radius: 0.25em;box-sizing: border-box;margin-bottom: 0.5em;}#sk-container-id-2 div.sk-estimator:hover {background-color: #d4ebff;}#sk-container-id-2 div.sk-parallel-item::after {content: \"\";width: 100%;border-bottom: 1px solid gray;flex-grow: 1;}#sk-container-id-2 div.sk-label:hover label.sk-toggleable__label {background-color: #d4ebff;}#sk-container-id-2 div.sk-serial::before {content: \"\";position: absolute;border-left: 1px solid gray;box-sizing: border-box;top: 0;bottom: 0;left: 50%;z-index: 0;}#sk-container-id-2 div.sk-serial {display: flex;flex-direction: column;align-items: center;background-color: white;padding-right: 0.2em;padding-left: 0.2em;position: relative;}#sk-container-id-2 div.sk-item {position: relative;z-index: 1;}#sk-container-id-2 div.sk-parallel {display: flex;align-items: stretch;justify-content: center;background-color: white;position: relative;}#sk-container-id-2 div.sk-item::before, #sk-container-id-2 div.sk-parallel-item::before {content: \"\";position: absolute;border-left: 1px solid gray;box-sizing: border-box;top: 0;bottom: 0;left: 50%;z-index: -1;}#sk-container-id-2 div.sk-parallel-item {display: flex;flex-direction: column;z-index: 1;position: relative;background-color: white;}#sk-container-id-2 div.sk-parallel-item:first-child::after {align-self: flex-end;width: 50%;}#sk-container-id-2 div.sk-parallel-item:last-child::after {align-self: flex-start;width: 50%;}#sk-container-id-2 div.sk-parallel-item:only-child::after {width: 0;}#sk-container-id-2 div.sk-dashed-wrapped {border: 1px dashed gray;margin: 0 0.4em 0.5em 0.4em;box-sizing: border-box;padding-bottom: 0.4em;background-color: white;}#sk-container-id-2 div.sk-label label {font-family: monospace;font-weight: bold;display: inline-block;line-height: 1.2em;}#sk-container-id-2 div.sk-label-container {text-align: center;}#sk-container-id-2 div.sk-container {/* jupyter's `normalize.less` sets `[hidden] { display: none; }` but bootstrap.min.css set `[hidden] { display: none !important; }` so we also need the `!important` here to be able to override the default hidden behavior on the sphinx rendered scikit-learn.org. See: https://github.com/scikit-learn/scikit-learn/issues/21755 */display: inline-block !important;position: relative;}#sk-container-id-2 div.sk-text-repr-fallback {display: none;}</style><div id=\"sk-container-id-2\" class=\"sk-top-container\"><div class=\"sk-text-repr-fallback\"><pre>RandomForestRegressor(n_estimators=10, n_jobs=-1, random_state=1)</pre><b>In a Jupyter environment, please rerun this cell to show the HTML representation or trust the notebook. <br />On GitHub, the HTML representation is unable to render, please try loading this page with nbviewer.org.</b></div><div class=\"sk-container\" hidden><div class=\"sk-item\"><div class=\"sk-estimator sk-toggleable\"><input class=\"sk-toggleable__control sk-hidden--visually\" id=\"sk-estimator-id-2\" type=\"checkbox\" checked><label for=\"sk-estimator-id-2\" class=\"sk-toggleable__label sk-toggleable__label-arrow\">RandomForestRegressor</label><div class=\"sk-toggleable__content\"><pre>RandomForestRegressor(n_estimators=10, n_jobs=-1, random_state=1)</pre></div></div></div></div></div>"
      ],
      "text/plain": [
       "RandomForestRegressor(n_estimators=10, n_jobs=-1, random_state=1)"
      ]
     },
     "execution_count": 10,
     "metadata": {},
     "output_type": "execute_result"
    }
   ],
   "source": [
    "from sklearn.ensemble import RandomForestRegressor\n",
    "\n",
    "# Train the model\n",
    "rf = RandomForestRegressor(n_estimators=10, random_state=1, n_jobs=-1)\n",
    "rf.fit(X_train, y_train)"
   ]
  },
  {
   "cell_type": "markdown",
   "metadata": {},
   "source": []
  },
  {
   "cell_type": "code",
   "execution_count": 13,
   "metadata": {},
   "outputs": [
    {
     "name": "stdout",
     "output_type": "stream",
     "text": [
      "RMSE 0.24527740463893763\n"
     ]
    }
   ],
   "source": [
    "# Make predictions on the validation data\n",
    "y_pred = rf.predict(X_val)\n",
    "\n",
    "# Calculate the RMSE\n",
    "rmse = np.sqrt(mean_squared_error(y_val, y_pred))\n",
    "print('RMSE', rmse)"
   ]
  },
  {
   "cell_type": "markdown",
   "metadata": {},
   "source": [
    "Question 3<br>\n",
    "Now let's experiment with the n_estimators parameter<br>\n",
    "<br>\n",
    "Try different values of this parameter from 10 to 200 with step 10.<br>\n",
    "Set random_state to 1.<br>\n",
    "Evaluate the model on the validation dataset.<br>\n",
    "After which value of n_estimators does RMSE stop improving? Consider 3 decimal places for retrieving the answer.<br>\n",
    "<br>\n",
    "- 10\n",
    "- 25\n",
    "- 50\n",
    "- 160"
   ]
  },
  {
   "cell_type": "code",
   "execution_count": 14,
   "metadata": {},
   "outputs": [],
   "source": [
    "from sklearn.metrics import mean_squared_error\n",
    "import numpy as np\n",
    "\n",
    "# Define a list of n_estimators values to try\n",
    "n_estimators_values = list(range(10, 201, 10))\n",
    "\n",
    "# Initialize a list to store RMSE values for each n_estimators\n",
    "rmse_values = []\n",
    "\n",
    "# Loop over n_estimators_values\n",
    "for n in n_estimators_values:\n",
    "    # Train the model with the current n_estimators\n",
    "    rf = RandomForestRegressor(n_estimators=n, random_state=1, n_jobs=-1)\n",
    "    rf.fit(X_train, y_train)\n",
    "\n",
    "    # Make predictions on the validation data\n",
    "    y_pred = rf.predict(X_val)\n",
    "\n",
    "    # Calculate the RMSE and append to rmse_values\n",
    "    rmse = np.sqrt(mean_squared_error(y_val, y_pred))\n",
    "    rmse_values.append(rmse)"
   ]
  },
  {
   "cell_type": "code",
   "execution_count": 16,
   "metadata": {},
   "outputs": [
    {
     "data": {
      "text/plain": [
       "[0.24527740463893763,\n",
       " 0.23904061686517195,\n",
       " 0.2369950267894766,\n",
       " 0.2355088433070916,\n",
       " 0.23502147329312892,\n",
       " 0.23458432707188806,\n",
       " 0.23446619209731492,\n",
       " 0.23472118653889684,\n",
       " 0.23451222686838538,\n",
       " 0.2343080008939288,\n",
       " 0.23430472773104952,\n",
       " 0.23413312513122297,\n",
       " 0.23392074197851684,\n",
       " 0.23367907192934007,\n",
       " 0.2336055470147229,\n",
       " 0.2334522392319948,\n",
       " 0.23340125154040178,\n",
       " 0.23357420998973866,\n",
       " 0.23381388047131582,\n",
       " 0.23372174449450633]"
      ]
     },
     "execution_count": 16,
     "metadata": {},
     "output_type": "execute_result"
    }
   ],
   "source": [
    "rmse_values\n"
   ]
  },
  {
   "cell_type": "code",
   "execution_count": 19,
   "metadata": {},
   "outputs": [
    {
     "name": "stdout",
     "output_type": "stream",
     "text": [
      "For n_estimators = 10, RMSE = 0.245\n",
      "For n_estimators = 20, RMSE = 0.239\n",
      "For n_estimators = 30, RMSE = 0.237\n",
      "For n_estimators = 40, RMSE = 0.236\n",
      "For n_estimators = 50, RMSE = 0.235\n",
      "For n_estimators = 60, RMSE = 0.235\n",
      "For n_estimators = 70, RMSE = 0.234\n",
      "For n_estimators = 80, RMSE = 0.235\n",
      "For n_estimators = 90, RMSE = 0.235\n",
      "For n_estimators = 100, RMSE = 0.234\n",
      "For n_estimators = 110, RMSE = 0.234\n",
      "For n_estimators = 120, RMSE = 0.234\n",
      "For n_estimators = 130, RMSE = 0.234\n",
      "For n_estimators = 140, RMSE = 0.234\n",
      "For n_estimators = 150, RMSE = 0.234\n",
      "For n_estimators = 160, RMSE = 0.233\n",
      "For n_estimators = 170, RMSE = 0.233\n",
      "For n_estimators = 180, RMSE = 0.234\n",
      "For n_estimators = 190, RMSE = 0.234\n",
      "For n_estimators = 200, RMSE = 0.234\n"
     ]
    }
   ],
   "source": [
    "# Create a dictionary that maps n_estimators_values to rmse_values\n",
    "n_estimators_rmse = dict(zip(n_estimators_values, rmse_values))\n",
    "\n",
    "# Now we can print the best value of n_estimators round of till 2 decimal places\n",
    "\n",
    "for n_estimators, rmse in n_estimators_rmse.items():\n",
    "    rmse = round(rmse, 3)\n",
    "    print(f'For n_estimators = {n_estimators}, RMSE = {rmse}')"
   ]
  },
  {
   "cell_type": "markdown",
   "metadata": {},
   "source": [
    "The answer is **50**"
   ]
  },
  {
   "cell_type": "markdown",
   "metadata": {},
   "source": [
    "Question 4<br>\n",
    "Let's select the best max_depth:<br>\n",
    "<br>\n",
    "Try different values of max_depth: [10, 15, 20, 25]<br>\n",
    "For each of these values,<br>\n",
    "try different values of n_estimators from 10 till 200 (with step 10)<br>\n",
    "calculate the mean RMSE<br>\n",
    "Fix the random seed: random_state=1<br>\n",
    "What's the best max_depth, using the mean RMSE?<br>\n",
    "<br>\n",
    "- 10\n",
    "- 15\n",
    "- 20\n",
    "- 25"
   ]
  },
  {
   "cell_type": "code",
   "execution_count": 22,
   "metadata": {},
   "outputs": [
    {
     "name": "stdout",
     "output_type": "stream",
     "text": [
      "The best max_depth is 10 and the best n_estimators is 40 with RMSE of 0.7534621548946745\n"
     ]
    }
   ],
   "source": [
    "import numpy as np\n",
    "best_rmse=np.inf\n",
    "for max_depth in [10, 15, 20, 25]:\n",
    "    for n_estimators in range(10, 210, 10):\n",
    "        model = RandomForestRegressor(max_depth=max_depth, n_estimators=n_estimators, random_state=1)\n",
    "        model.fit(X_train, y_train)\n",
    "        predictions = model.predict(X_val)\n",
    "        rmse = np.sqrt(mean_squared_error(y_test, predictions))\n",
    "        if rmse < best_rmse:\n",
    "            best_rmse = rmse\n",
    "            best_max_depth = max_depth\n",
    "            best_n_estimators = n_estimators\n",
    "\n",
    "print(f\"The best max_depth is {best_max_depth} and the best n_estimators is {best_n_estimators} with RMSE of {best_rmse}\")\n",
    "\n"
   ]
  },
  {
   "cell_type": "markdown",
   "metadata": {},
   "source": [
    "Question 5<br>\n",
    "Train the model with these parameters:<br>\n",
    "n_estimators=10,<br>\n",
    "max_depth=20,<br>\n",
    "random_state=1,<br>\n",
    "n_jobs=-1 (optional)<br>\n",
    "Get the feature importance information from this model<br>\n",
    "What's the most important feature (among these 4)?"
   ]
  },
  {
   "cell_type": "code",
   "execution_count": 24,
   "metadata": {},
   "outputs": [],
   "source": [
    "model = RandomForestRegressor(max_depth=20, n_estimators=10,random_state=1)\n",
    "model.fit(X_train, y_train)\n",
    "predictions = model.predict(X_val)\n",
    "rmse = np.sqrt(mean_squared_error(y_val, predictions))\n",
    "#  feature importance information from the model\n",
    "importances = model.feature_importances_\n"
   ]
  },
  {
   "cell_type": "code",
   "execution_count": 26,
   "metadata": {},
   "outputs": [
    {
     "data": {
      "text/html": [
       "<div>\n",
       "<style scoped>\n",
       "    .dataframe tbody tr th:only-of-type {\n",
       "        vertical-align: middle;\n",
       "    }\n",
       "\n",
       "    .dataframe tbody tr th {\n",
       "        vertical-align: top;\n",
       "    }\n",
       "\n",
       "    .dataframe thead th {\n",
       "        text-align: right;\n",
       "    }\n",
       "</style>\n",
       "<table border=\"1\" class=\"dataframe\">\n",
       "  <thead>\n",
       "    <tr style=\"text-align: right;\">\n",
       "      <th></th>\n",
       "      <th>feature</th>\n",
       "      <th>importance</th>\n",
       "    </tr>\n",
       "  </thead>\n",
       "  <tbody>\n",
       "    <tr>\n",
       "      <th>4</th>\n",
       "      <td>median_income</td>\n",
       "      <td>0.335611</td>\n",
       "    </tr>\n",
       "    <tr>\n",
       "      <th>5</th>\n",
       "      <td>ocean_proximity=&lt;1H OCEAN</td>\n",
       "      <td>0.292473</td>\n",
       "    </tr>\n",
       "    <tr>\n",
       "      <th>2</th>\n",
       "      <td>latitude</td>\n",
       "      <td>0.102007</td>\n",
       "    </tr>\n",
       "    <tr>\n",
       "      <th>3</th>\n",
       "      <td>longitude</td>\n",
       "      <td>0.086244</td>\n",
       "    </tr>\n",
       "    <tr>\n",
       "      <th>6</th>\n",
       "      <td>ocean_proximity=INLAND</td>\n",
       "      <td>0.073806</td>\n",
       "    </tr>\n",
       "    <tr>\n",
       "      <th>1</th>\n",
       "      <td>housing_median_age</td>\n",
       "      <td>0.030317</td>\n",
       "    </tr>\n",
       "    <tr>\n",
       "      <th>7</th>\n",
       "      <td>population</td>\n",
       "      <td>0.027136</td>\n",
       "    </tr>\n",
       "    <tr>\n",
       "      <th>9</th>\n",
       "      <td>total_rooms</td>\n",
       "      <td>0.021417</td>\n",
       "    </tr>\n",
       "    <tr>\n",
       "      <th>8</th>\n",
       "      <td>total_bedrooms</td>\n",
       "      <td>0.015852</td>\n",
       "    </tr>\n",
       "    <tr>\n",
       "      <th>0</th>\n",
       "      <td>households</td>\n",
       "      <td>0.015136</td>\n",
       "    </tr>\n",
       "  </tbody>\n",
       "</table>\n",
       "</div>"
      ],
      "text/plain": [
       "                     feature  importance\n",
       "4              median_income    0.335611\n",
       "5  ocean_proximity=<1H OCEAN    0.292473\n",
       "2                   latitude    0.102007\n",
       "3                  longitude    0.086244\n",
       "6     ocean_proximity=INLAND    0.073806\n",
       "1         housing_median_age    0.030317\n",
       "7                 population    0.027136\n",
       "9                total_rooms    0.021417\n",
       "8             total_bedrooms    0.015852\n",
       "0                 households    0.015136"
      ]
     },
     "execution_count": 26,
     "metadata": {},
     "output_type": "execute_result"
    }
   ],
   "source": [
    "# print the feature importance information with feature names\n",
    "importances_df = pd.DataFrame({'feature': dv.feature_names_, 'importance': importances})\n",
    "importances_df.sort_values(by='importance', ascending=False)"
   ]
  },
  {
   "cell_type": "markdown",
   "metadata": {},
   "source": [
    "Question 6 <br>\n",
    "Now let's train an XGBoost model! For this question, we'll tune the eta parameter:<br>\n",
    "<br>\n",
    "Install XGBoost<br>\n",
    "Create DMatrix for train and validation<br>\n",
    "Create a watchlist<br>\n",
    "Train a model with these parameters for 100 rounds:<br>\n",
    "xgb_params = {<br>\n",
    "    'eta': 0.3, \n",
    "    'max_depth': 6,\n",
    "    'min_child_weight': 1,\n",
    "    \n",
    "    'objective': 'reg:squarederror',\n",
    "    'nthread': 8,\n",
    "    \n",
    "    'seed': 1,\n",
    "    'verbosity': 1,\n",
    "}"
   ]
  },
  {
   "cell_type": "code",
   "execution_count": 27,
   "metadata": {},
   "outputs": [
    {
     "name": "stdout",
     "output_type": "stream",
     "text": [
      "Collecting xgboost\n",
      "  Downloading xgboost-2.0.1-py3-none-win_amd64.whl (99.7 MB)\n",
      "     ---------------------------------------- 99.7/99.7 MB 2.2 MB/s eta 0:00:00\n",
      "Requirement already satisfied: scipy in c:\\users\\pc\\appdata\\local\\programs\\python\\python310\\lib\\site-packages (from xgboost) (1.9.2)\n",
      "Requirement already satisfied: numpy in c:\\users\\pc\\appdata\\local\\programs\\python\\python310\\lib\\site-packages (from xgboost) (1.23.3)\n",
      "Installing collected packages: xgboost\n",
      "Successfully installed xgboost-2.0.1\n"
     ]
    },
    {
     "name": "stderr",
     "output_type": "stream",
     "text": [
      "\n",
      "[notice] A new release of pip available: 22.3.1 -> 23.3.1\n",
      "[notice] To update, run: python.exe -m pip install --upgrade pip\n"
     ]
    }
   ],
   "source": [
    "!pip install xgboost"
   ]
  },
  {
   "cell_type": "code",
   "execution_count": 32,
   "metadata": {},
   "outputs": [
    {
     "name": "stdout",
     "output_type": "stream",
     "text": [
      "[0]\ttrain-rmse:0.44350\tvalid-rmse:0.44250\n",
      "[1]\ttrain-rmse:0.36599\tvalid-rmse:0.36916\n",
      "[2]\ttrain-rmse:0.31556\tvalid-rmse:0.32382\n",
      "[3]\ttrain-rmse:0.28541\tvalid-rmse:0.29965\n",
      "[4]\ttrain-rmse:0.26573\tvalid-rmse:0.28417\n",
      "[5]\ttrain-rmse:0.25338\tvalid-rmse:0.27463\n"
     ]
    },
    {
     "name": "stdout",
     "output_type": "stream",
     "text": [
      "[6]\ttrain-rmse:0.24157\tvalid-rmse:0.26770\n",
      "[7]\ttrain-rmse:0.23486\tvalid-rmse:0.26423\n",
      "[8]\ttrain-rmse:0.22668\tvalid-rmse:0.25820\n",
      "[9]\ttrain-rmse:0.21995\tvalid-rmse:0.25444\n",
      "[10]\ttrain-rmse:0.21444\tvalid-rmse:0.25179\n",
      "[11]\ttrain-rmse:0.21155\tvalid-rmse:0.25054\n",
      "[12]\ttrain-rmse:0.20729\tvalid-rmse:0.24791\n",
      "[13]\ttrain-rmse:0.20317\tvalid-rmse:0.24628\n",
      "[14]\ttrain-rmse:0.20135\tvalid-rmse:0.24630\n",
      "[15]\ttrain-rmse:0.19858\tvalid-rmse:0.24522\n",
      "[16]\ttrain-rmse:0.19580\tvalid-rmse:0.24445\n",
      "[17]\ttrain-rmse:0.19333\tvalid-rmse:0.24395\n",
      "[18]\ttrain-rmse:0.19107\tvalid-rmse:0.24284\n",
      "[19]\ttrain-rmse:0.18735\tvalid-rmse:0.24127\n",
      "[20]\ttrain-rmse:0.18524\tvalid-rmse:0.23978\n",
      "[21]\ttrain-rmse:0.18332\tvalid-rmse:0.23963\n",
      "[22]\ttrain-rmse:0.18189\tvalid-rmse:0.23892\n",
      "[23]\ttrain-rmse:0.18006\tvalid-rmse:0.23847\n",
      "[24]\ttrain-rmse:0.17869\tvalid-rmse:0.23847\n",
      "[25]\ttrain-rmse:0.17757\tvalid-rmse:0.23830\n",
      "[26]\ttrain-rmse:0.17520\tvalid-rmse:0.23862\n",
      "[27]\ttrain-rmse:0.17430\tvalid-rmse:0.23807\n",
      "[28]\ttrain-rmse:0.17281\tvalid-rmse:0.23793\n",
      "[29]\ttrain-rmse:0.17091\tvalid-rmse:0.23683\n",
      "[30]\ttrain-rmse:0.16888\tvalid-rmse:0.23570\n",
      "[31]\ttrain-rmse:0.16727\tvalid-rmse:0.23505\n",
      "[32]\ttrain-rmse:0.16553\tvalid-rmse:0.23494\n",
      "[33]\ttrain-rmse:0.16453\tvalid-rmse:0.23476\n",
      "[34]\ttrain-rmse:0.16292\tvalid-rmse:0.23490\n",
      "[35]\ttrain-rmse:0.16113\tvalid-rmse:0.23416\n",
      "[36]\ttrain-rmse:0.15969\tvalid-rmse:0.23402\n",
      "[37]\ttrain-rmse:0.15859\tvalid-rmse:0.23362\n",
      "[38]\ttrain-rmse:0.15726\tvalid-rmse:0.23393\n",
      "[39]\ttrain-rmse:0.15663\tvalid-rmse:0.23383\n",
      "[40]\ttrain-rmse:0.15542\tvalid-rmse:0.23318\n",
      "[41]\ttrain-rmse:0.15426\tvalid-rmse:0.23300\n",
      "[42]\ttrain-rmse:0.15289\tvalid-rmse:0.23266\n",
      "[43]\ttrain-rmse:0.15189\tvalid-rmse:0.23252\n",
      "[44]\ttrain-rmse:0.15092\tvalid-rmse:0.23252\n",
      "[45]\ttrain-rmse:0.14941\tvalid-rmse:0.23190\n",
      "[46]\ttrain-rmse:0.14856\tvalid-rmse:0.23178\n",
      "[47]\ttrain-rmse:0.14742\tvalid-rmse:0.23183\n",
      "[48]\ttrain-rmse:0.14683\tvalid-rmse:0.23198\n",
      "[49]\ttrain-rmse:0.14629\tvalid-rmse:0.23206\n",
      "[50]\ttrain-rmse:0.14536\tvalid-rmse:0.23225\n",
      "[51]\ttrain-rmse:0.14450\tvalid-rmse:0.23225\n",
      "[52]\ttrain-rmse:0.14353\tvalid-rmse:0.23223\n",
      "[53]\ttrain-rmse:0.14276\tvalid-rmse:0.23199\n",
      "[54]\ttrain-rmse:0.14180\tvalid-rmse:0.23194\n",
      "[55]\ttrain-rmse:0.14150\tvalid-rmse:0.23197\n",
      "[56]\ttrain-rmse:0.14085\tvalid-rmse:0.23189\n",
      "[57]\ttrain-rmse:0.14020\tvalid-rmse:0.23177\n",
      "[58]\ttrain-rmse:0.13931\tvalid-rmse:0.23175\n",
      "[59]\ttrain-rmse:0.13816\tvalid-rmse:0.23148\n",
      "[60]\ttrain-rmse:0.13719\tvalid-rmse:0.23139\n",
      "[61]\ttrain-rmse:0.13640\tvalid-rmse:0.23179\n",
      "[62]\ttrain-rmse:0.13566\tvalid-rmse:0.23160\n",
      "[63]\ttrain-rmse:0.13439\tvalid-rmse:0.23151\n",
      "[64]\ttrain-rmse:0.13358\tvalid-rmse:0.23153\n",
      "[65]\ttrain-rmse:0.13259\tvalid-rmse:0.23158\n",
      "[66]\ttrain-rmse:0.13197\tvalid-rmse:0.23144\n",
      "[67]\ttrain-rmse:0.13175\tvalid-rmse:0.23148\n",
      "[68]\ttrain-rmse:0.13117\tvalid-rmse:0.23148\n",
      "[69]\ttrain-rmse:0.13046\tvalid-rmse:0.23137\n",
      "[70]\ttrain-rmse:0.12943\tvalid-rmse:0.23068\n",
      "[71]\ttrain-rmse:0.12894\tvalid-rmse:0.23064\n",
      "[72]\ttrain-rmse:0.12854\tvalid-rmse:0.23082\n",
      "[73]\ttrain-rmse:0.12741\tvalid-rmse:0.23059\n",
      "[74]\ttrain-rmse:0.12635\tvalid-rmse:0.23048\n",
      "[75]\ttrain-rmse:0.12555\tvalid-rmse:0.23039\n",
      "[76]\ttrain-rmse:0.12395\tvalid-rmse:0.22935\n",
      "[77]\ttrain-rmse:0.12342\tvalid-rmse:0.22941\n",
      "[78]\ttrain-rmse:0.12255\tvalid-rmse:0.22913\n",
      "[79]\ttrain-rmse:0.12220\tvalid-rmse:0.22889\n",
      "[80]\ttrain-rmse:0.12192\tvalid-rmse:0.22886\n",
      "[81]\ttrain-rmse:0.12126\tvalid-rmse:0.22903\n",
      "[82]\ttrain-rmse:0.12056\tvalid-rmse:0.22891\n",
      "[83]\ttrain-rmse:0.11995\tvalid-rmse:0.22885\n",
      "[84]\ttrain-rmse:0.11922\tvalid-rmse:0.22893\n",
      "[85]\ttrain-rmse:0.11854\tvalid-rmse:0.22888\n",
      "[86]\ttrain-rmse:0.11781\tvalid-rmse:0.22899\n",
      "[87]\ttrain-rmse:0.11692\tvalid-rmse:0.22908\n",
      "[88]\ttrain-rmse:0.11613\tvalid-rmse:0.22905\n",
      "[89]\ttrain-rmse:0.11557\tvalid-rmse:0.22886\n",
      "[90]\ttrain-rmse:0.11496\tvalid-rmse:0.22861\n",
      "[91]\ttrain-rmse:0.11461\tvalid-rmse:0.22874\n",
      "[92]\ttrain-rmse:0.11386\tvalid-rmse:0.22887\n",
      "[93]\ttrain-rmse:0.11342\tvalid-rmse:0.22895\n",
      "[94]\ttrain-rmse:0.11281\tvalid-rmse:0.22904\n",
      "[95]\ttrain-rmse:0.11211\tvalid-rmse:0.22908\n",
      "[96]\ttrain-rmse:0.11139\tvalid-rmse:0.22875\n",
      "[97]\ttrain-rmse:0.11089\tvalid-rmse:0.22864\n",
      "[98]\ttrain-rmse:0.11041\tvalid-rmse:0.22868\n",
      "[99]\ttrain-rmse:0.10989\tvalid-rmse:0.22862\n",
      "RMSE: 0.228623\n"
     ]
    }
   ],
   "source": [
    "#  XGBoost\n",
    "import xgboost as xgb\n",
    "dtrain = xgb.DMatrix(X_train, label=y_train)\n",
    "dvalid = xgb.DMatrix(X_val, label=y_val)\n",
    "watchlist = [(dtrain, 'train'), (dvalid, 'valid')]\n",
    "xgb_params = {\n",
    "    'eta': 0.3, \n",
    "    'max_depth': 6,\n",
    "    'min_child_weight': 1,\n",
    "    'objective': 'reg:squarederror',\n",
    "    'nthread': 8,\n",
    "    'seed': 1,\n",
    "    'verbosity': 1,\n",
    "}\n",
    "\n",
    "model = xgb.train(xgb_params, dtrain, num_boost_round=100, evals=watchlist)\n",
    "rmse = np.sqrt(mean_squared_error(y_val, predictions))\n",
    "from sklearn.metrics import mean_squared_error\n",
    "from math import sqrt\n",
    "\n",
    "# Generate predictions\n",
    "y_pred = model.predict(dvalid)\n",
    "\n",
    "# Calculate RMSE\n",
    "rmse = sqrt(mean_squared_error(y_val, y_pred))\n",
    "print(\"RMSE: %f\" % (rmse))\n",
    "\n"
   ]
  },
  {
   "cell_type": "code",
   "execution_count": 33,
   "metadata": {},
   "outputs": [
    {
     "name": "stdout",
     "output_type": "stream",
     "text": [
      "[0]\ttrain-rmse:0.52449\tvalid-rmse:0.52045\n",
      "[1]\ttrain-rmse:0.48736\tvalid-rmse:0.48443\n",
      "[2]\ttrain-rmse:0.45433\tvalid-rmse:0.45293\n",
      "[3]\ttrain-rmse:0.42533\tvalid-rmse:0.42550\n",
      "[4]\ttrain-rmse:0.39987\tvalid-rmse:0.40144\n",
      "[5]\ttrain-rmse:0.37822\tvalid-rmse:0.38151\n",
      "[6]\ttrain-rmse:0.35887\tvalid-rmse:0.36393\n",
      "[7]\ttrain-rmse:0.34177\tvalid-rmse:0.34838\n",
      "[8]\ttrain-rmse:0.32701\tvalid-rmse:0.33492\n",
      "[9]\ttrain-rmse:0.31411\tvalid-rmse:0.32333\n",
      "[10]\ttrain-rmse:0.30326\tvalid-rmse:0.31427\n",
      "[11]\ttrain-rmse:0.29355\tvalid-rmse:0.30615\n",
      "[12]\ttrain-rmse:0.28519\tvalid-rmse:0.29922\n",
      "[13]\ttrain-rmse:0.27760\tvalid-rmse:0.29269\n",
      "[14]\ttrain-rmse:0.27116\tvalid-rmse:0.28796\n",
      "[15]\ttrain-rmse:0.26538\tvalid-rmse:0.28380\n",
      "[16]\ttrain-rmse:0.26012\tvalid-rmse:0.27970\n",
      "[17]\ttrain-rmse:0.25583\tvalid-rmse:0.27661\n",
      "[18]\ttrain-rmse:0.25203\tvalid-rmse:0.27388\n",
      "[19]\ttrain-rmse:0.24818\tvalid-rmse:0.27123\n",
      "[20]\ttrain-rmse:0.24512\tvalid-rmse:0.26882\n",
      "[21]\ttrain-rmse:0.24149\tvalid-rmse:0.26669\n",
      "[22]\ttrain-rmse:0.23895\tvalid-rmse:0.26478\n",
      "[23]\ttrain-rmse:0.23594\tvalid-rmse:0.26331\n",
      "[24]\ttrain-rmse:0.23305\tvalid-rmse:0.26141\n",
      "[25]\ttrain-rmse:0.23026\tvalid-rmse:0.25997\n",
      "[26]\ttrain-rmse:0.22720\tvalid-rmse:0.25799\n",
      "[27]\ttrain-rmse:0.22487\tvalid-rmse:0.25620\n",
      "[28]\ttrain-rmse:0.22268\tvalid-rmse:0.25494\n",
      "[29]\ttrain-rmse:0.22084\tvalid-rmse:0.25374\n",
      "[30]\ttrain-rmse:0.21887\tvalid-rmse:0.25266\n",
      "[31]\ttrain-rmse:0.21709\tvalid-rmse:0.25172\n",
      "[32]\ttrain-rmse:0.21505\tvalid-rmse:0.25075\n",
      "[33]\ttrain-rmse:0.21342\tvalid-rmse:0.24991\n",
      "[34]\ttrain-rmse:0.21168\tvalid-rmse:0.24882\n",
      "[35]\ttrain-rmse:0.21020\tvalid-rmse:0.24826\n",
      "[36]\ttrain-rmse:0.20878\tvalid-rmse:0.24779\n",
      "[37]\ttrain-rmse:0.20755\tvalid-rmse:0.24731\n",
      "[38]\ttrain-rmse:0.20625\tvalid-rmse:0.24668\n",
      "[39]\ttrain-rmse:0.20518\tvalid-rmse:0.24624\n",
      "[40]\ttrain-rmse:0.20392\tvalid-rmse:0.24539\n",
      "[41]\ttrain-rmse:0.20285\tvalid-rmse:0.24501\n",
      "[42]\ttrain-rmse:0.20172\tvalid-rmse:0.24435\n",
      "[43]\ttrain-rmse:0.20045\tvalid-rmse:0.24380\n",
      "[44]\ttrain-rmse:0.19900\tvalid-rmse:0.24311\n",
      "[45]\ttrain-rmse:0.19814\tvalid-rmse:0.24293\n",
      "[46]\ttrain-rmse:0.19628\tvalid-rmse:0.24184\n",
      "[47]\ttrain-rmse:0.19561\tvalid-rmse:0.24159\n",
      "[48]\ttrain-rmse:0.19464\tvalid-rmse:0.24131\n",
      "[49]\ttrain-rmse:0.19371\tvalid-rmse:0.24109\n",
      "[50]\ttrain-rmse:0.19215\tvalid-rmse:0.24020\n",
      "[51]\ttrain-rmse:0.19156\tvalid-rmse:0.24015\n",
      "[52]\ttrain-rmse:0.19059\tvalid-rmse:0.23979\n",
      "[53]\ttrain-rmse:0.18985\tvalid-rmse:0.23958\n",
      "[54]\ttrain-rmse:0.18931\tvalid-rmse:0.23930\n",
      "[55]\ttrain-rmse:0.18809\tvalid-rmse:0.23878\n",
      "[56]\ttrain-rmse:0.18734\tvalid-rmse:0.23853\n",
      "[57]\ttrain-rmse:0.18681\tvalid-rmse:0.23849\n",
      "[58]\ttrain-rmse:0.18623\tvalid-rmse:0.23836\n",
      "[59]\ttrain-rmse:0.18561\tvalid-rmse:0.23835\n",
      "[60]\ttrain-rmse:0.18457\tvalid-rmse:0.23791\n",
      "[61]\ttrain-rmse:0.18363\tvalid-rmse:0.23783\n",
      "[62]\ttrain-rmse:0.18310\tvalid-rmse:0.23788\n",
      "[63]\ttrain-rmse:0.18209\tvalid-rmse:0.23755\n",
      "[64]\ttrain-rmse:0.18150\tvalid-rmse:0.23735\n",
      "[65]\ttrain-rmse:0.18063\tvalid-rmse:0.23698\n",
      "[66]\ttrain-rmse:0.17998\tvalid-rmse:0.23681\n",
      "[67]\ttrain-rmse:0.17913\tvalid-rmse:0.23646\n",
      "[68]\ttrain-rmse:0.17843\tvalid-rmse:0.23628\n",
      "[69]\ttrain-rmse:0.17798\tvalid-rmse:0.23627\n",
      "[70]\ttrain-rmse:0.17741\tvalid-rmse:0.23622\n",
      "[71]\ttrain-rmse:0.17685\tvalid-rmse:0.23607\n",
      "[72]\ttrain-rmse:0.17617\tvalid-rmse:0.23584\n",
      "[73]\ttrain-rmse:0.17557\tvalid-rmse:0.23562\n",
      "[74]\ttrain-rmse:0.17522\tvalid-rmse:0.23537\n",
      "[75]\ttrain-rmse:0.17468\tvalid-rmse:0.23510\n",
      "[76]\ttrain-rmse:0.17432\tvalid-rmse:0.23503\n",
      "[77]\ttrain-rmse:0.17395\tvalid-rmse:0.23494\n",
      "[78]\ttrain-rmse:0.17334\tvalid-rmse:0.23482\n",
      "[79]\ttrain-rmse:0.17287\tvalid-rmse:0.23467\n",
      "[80]\ttrain-rmse:0.17242\tvalid-rmse:0.23453\n",
      "[81]\ttrain-rmse:0.17213\tvalid-rmse:0.23447\n",
      "[82]\ttrain-rmse:0.17139\tvalid-rmse:0.23431\n",
      "[83]\ttrain-rmse:0.17105\tvalid-rmse:0.23428\n",
      "[84]\ttrain-rmse:0.17063\tvalid-rmse:0.23413\n",
      "[85]\ttrain-rmse:0.17014\tvalid-rmse:0.23404\n",
      "[86]\ttrain-rmse:0.16966\tvalid-rmse:0.23401\n",
      "[87]\ttrain-rmse:0.16916\tvalid-rmse:0.23388\n",
      "[88]\ttrain-rmse:0.16882\tvalid-rmse:0.23364\n",
      "[89]\ttrain-rmse:0.16835\tvalid-rmse:0.23339\n",
      "[90]\ttrain-rmse:0.16797\tvalid-rmse:0.23332\n",
      "[91]\ttrain-rmse:0.16756\tvalid-rmse:0.23330\n",
      "[92]\ttrain-rmse:0.16707\tvalid-rmse:0.23298\n",
      "[93]\ttrain-rmse:0.16623\tvalid-rmse:0.23273\n",
      "[94]\ttrain-rmse:0.16586\tvalid-rmse:0.23279\n",
      "[95]\ttrain-rmse:0.16562\tvalid-rmse:0.23276\n",
      "[96]\ttrain-rmse:0.16524\tvalid-rmse:0.23266\n",
      "[97]\ttrain-rmse:0.16444\tvalid-rmse:0.23246\n",
      "[98]\ttrain-rmse:0.16383\tvalid-rmse:0.23222\n",
      "[99]\ttrain-rmse:0.16323\tvalid-rmse:0.23209\n",
      "RMSE: 0.232089\n"
     ]
    }
   ],
   "source": [
    "xgb_params = {\n",
    "    'eta': 0.1, \n",
    "    'max_depth': 6,\n",
    "    'min_child_weight': 1,\n",
    "    'objective': 'reg:squarederror',\n",
    "    'nthread': 8,\n",
    "    'seed': 1,\n",
    "    'verbosity': 1,\n",
    "}\n",
    "\n",
    "model = xgb.train(xgb_params, dtrain, num_boost_round=100, evals=watchlist)\n",
    "rmse = np.sqrt(mean_squared_error(y_val, predictions))\n",
    "from sklearn.metrics import mean_squared_error\n",
    "from math import sqrt\n",
    "\n",
    "# Generate predictions\n",
    "y_pred = model.predict(dvalid)\n",
    "\n",
    "# Calculate RMSE\n",
    "rmse = sqrt(mean_squared_error(y_val, y_pred))\n",
    "print(\"RMSE: %f\" % (rmse))"
   ]
  },
  {
   "cell_type": "code",
   "execution_count": null,
   "metadata": {},
   "outputs": [],
   "source": []
  }
 ],
 "metadata": {
  "kernelspec": {
   "display_name": "Python 3",
   "language": "python",
   "name": "python3"
  },
  "language_info": {
   "codemirror_mode": {
    "name": "ipython",
    "version": 3
   },
   "file_extension": ".py",
   "mimetype": "text/x-python",
   "name": "python",
   "nbconvert_exporter": "python",
   "pygments_lexer": "ipython3",
   "version": "3.10.7"
  }
 },
 "nbformat": 4,
 "nbformat_minor": 2
}
